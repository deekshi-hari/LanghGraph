{
 "cells": [
  {
   "cell_type": "code",
   "execution_count": 5,
   "id": "3d673e4a",
   "metadata": {},
   "outputs": [],
   "source": [
    "from typing import TypedDict, List\n",
    "from langgraph.graph import StateGraph\n",
    "import math"
   ]
  },
  {
   "cell_type": "code",
   "execution_count": 6,
   "id": "41ddc5e3",
   "metadata": {},
   "outputs": [],
   "source": [
    "class AgentState(TypedDict):\n",
    "    values: List[int]\n",
    "    name: str\n",
    "    operator: str\n",
    "    result: str"
   ]
  },
  {
   "cell_type": "code",
   "execution_count": 10,
   "id": "a933d9d5",
   "metadata": {},
   "outputs": [],
   "source": [
    "def processor_node(state: AgentState) -> AgentState:\n",
    "    opr = state[\"operator\"]\n",
    "\n",
    "    if opr == \"*\":\n",
    "        state[\"result\"] =  f\"Hi {state[\"name\"]} your mul is {math.prod(state[\"values\"])}\"\n",
    "    elif opr == \"+\":\n",
    "        state[\"result\"] =  f\"Hi {state[\"name\"]} your sum is {sum(state[\"values\"])}\"\n",
    "    else:\n",
    "        state[\"result\"] =  f\"Hi {state[\"name\"]} your entered an invalid operator\"\n",
    "\n",
    "    return state"
   ]
  },
  {
   "cell_type": "code",
   "execution_count": 11,
   "id": "0dc000f0",
   "metadata": {},
   "outputs": [],
   "source": [
    "graph = StateGraph(AgentState)\n",
    "\n",
    "graph.add_node(\"processor\", processor_node)\n",
    "\n",
    "graph.set_entry_point(\"processor\")\n",
    "\n",
    "graph.set_finish_point(\"processor\")\n",
    "\n",
    "app = graph.compile()"
   ]
  },
  {
   "cell_type": "code",
   "execution_count": 19,
   "id": "91bdeb10",
   "metadata": {},
   "outputs": [],
   "source": [
    "res = app.invoke({\"name\": \"Hari\", \"values\": [1,2,3,4], \"operator\": \"sdfs\"})"
   ]
  },
  {
   "cell_type": "code",
   "execution_count": 20,
   "id": "80afbd96",
   "metadata": {},
   "outputs": [
    {
     "name": "stdout",
     "output_type": "stream",
     "text": [
      "Hi Hari your entered an invalid operator\n"
     ]
    }
   ],
   "source": [
    "print(res[\"result\"])"
   ]
  }
 ],
 "metadata": {
  "kernelspec": {
   "display_name": "Python 3",
   "language": "python",
   "name": "python3"
  },
  "language_info": {
   "codemirror_mode": {
    "name": "ipython",
    "version": 3
   },
   "file_extension": ".py",
   "mimetype": "text/x-python",
   "name": "python",
   "nbconvert_exporter": "python",
   "pygments_lexer": "ipython3",
   "version": "3.13.3"
  }
 },
 "nbformat": 4,
 "nbformat_minor": 5
}
